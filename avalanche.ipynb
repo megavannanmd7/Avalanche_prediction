{
 "cells": [
  {
   "cell_type": "code",
   "execution_count": 13,
   "id": "69b021b8-1f9b-4580-b887-2958b4d334b5",
   "metadata": {},
   "outputs": [],
   "source": [
    "import pandas as pd\n",
    "import numpy as np\n",
    "import matplotlib.pyplot as plt"
   ]
  },
  {
   "cell_type": "code",
   "execution_count": 14,
   "id": "27e9d33c-cc22-41ff-9e33-aea7815db335",
   "metadata": {},
   "outputs": [],
   "source": [
    "data=pd.read_csv('training_data.csv')"
   ]
  },
  {
   "cell_type": "code",
   "execution_count": 15,
   "id": "ab8f5efd-0808-45a0-aa53-33efb794573b",
   "metadata": {},
   "outputs": [
    {
     "data": {
      "text/html": [
       "<div>\n",
       "<style scoped>\n",
       "    .dataframe tbody tr th:only-of-type {\n",
       "        vertical-align: middle;\n",
       "    }\n",
       "\n",
       "    .dataframe tbody tr th {\n",
       "        vertical-align: top;\n",
       "    }\n",
       "\n",
       "    .dataframe thead th {\n",
       "        text-align: right;\n",
       "    }\n",
       "</style>\n",
       "<table border=\"1\" class=\"dataframe\">\n",
       "  <thead>\n",
       "    <tr style=\"text-align: right;\">\n",
       "      <th></th>\n",
       "      <th>days</th>\n",
       "      <th>Date</th>\n",
       "      <th>WTEQ.I-1 (in)</th>\n",
       "      <th>PREC.I-1 (in)</th>\n",
       "      <th>TOBS.I-1 (degC)</th>\n",
       "      <th>TMAX.D-1 (degC)</th>\n",
       "      <th>TMIN.D-1 (degC)</th>\n",
       "      <th>TAVG.D-1 (degC)</th>\n",
       "      <th>SNWD.I-1 (in)</th>\n",
       "      <th>BATT.I-1 (volt)</th>\n",
       "      <th>BATT.I-2 (volt)</th>\n",
       "      <th>BATT.I-3 (volt)</th>\n",
       "      <th>Target</th>\n",
       "    </tr>\n",
       "  </thead>\n",
       "  <tbody>\n",
       "    <tr>\n",
       "      <th>0</th>\n",
       "      <td>0</td>\n",
       "      <td>1/01/2010</td>\n",
       "      <td>6.8</td>\n",
       "      <td>8.0</td>\n",
       "      <td>-11.0</td>\n",
       "      <td>-9.8</td>\n",
       "      <td>-16.1</td>\n",
       "      <td>-12.9</td>\n",
       "      <td>30.0</td>\n",
       "      <td>12.44</td>\n",
       "      <td>13.80</td>\n",
       "      <td>3.15</td>\n",
       "      <td>0</td>\n",
       "    </tr>\n",
       "    <tr>\n",
       "      <th>1</th>\n",
       "      <td>1</td>\n",
       "      <td>2/01/2010</td>\n",
       "      <td>6.8</td>\n",
       "      <td>8.0</td>\n",
       "      <td>-4.3</td>\n",
       "      <td>-3.0</td>\n",
       "      <td>-11.2</td>\n",
       "      <td>-6.2</td>\n",
       "      <td>29.0</td>\n",
       "      <td>12.48</td>\n",
       "      <td>13.77</td>\n",
       "      <td>3.15</td>\n",
       "      <td>0</td>\n",
       "    </tr>\n",
       "    <tr>\n",
       "      <th>2</th>\n",
       "      <td>2</td>\n",
       "      <td>3/01/2010</td>\n",
       "      <td>7.2</td>\n",
       "      <td>8.5</td>\n",
       "      <td>-8.7</td>\n",
       "      <td>-4.3</td>\n",
       "      <td>-8.7</td>\n",
       "      <td>-6.2</td>\n",
       "      <td>32.0</td>\n",
       "      <td>12.44</td>\n",
       "      <td>13.53</td>\n",
       "      <td>3.15</td>\n",
       "      <td>0</td>\n",
       "    </tr>\n",
       "    <tr>\n",
       "      <th>3</th>\n",
       "      <td>3</td>\n",
       "      <td>4/01/2010</td>\n",
       "      <td>7.2</td>\n",
       "      <td>8.6</td>\n",
       "      <td>-10.2</td>\n",
       "      <td>-6.3</td>\n",
       "      <td>-11.0</td>\n",
       "      <td>-9.1</td>\n",
       "      <td>32.0</td>\n",
       "      <td>12.42</td>\n",
       "      <td>13.42</td>\n",
       "      <td>3.15</td>\n",
       "      <td>0</td>\n",
       "    </tr>\n",
       "    <tr>\n",
       "      <th>4</th>\n",
       "      <td>4</td>\n",
       "      <td>5/01/2010</td>\n",
       "      <td>7.2</td>\n",
       "      <td>8.6</td>\n",
       "      <td>-8.1</td>\n",
       "      <td>-5.1</td>\n",
       "      <td>-12.7</td>\n",
       "      <td>-9.0</td>\n",
       "      <td>31.0</td>\n",
       "      <td>12.40</td>\n",
       "      <td>13.46</td>\n",
       "      <td>3.15</td>\n",
       "      <td>0</td>\n",
       "    </tr>\n",
       "  </tbody>\n",
       "</table>\n",
       "</div>"
      ],
      "text/plain": [
       "   days       Date  WTEQ.I-1 (in)   PREC.I-1 (in)   TOBS.I-1 (degC)   \\\n",
       "0     0  1/01/2010             6.8             8.0             -11.0   \n",
       "1     1  2/01/2010             6.8             8.0              -4.3   \n",
       "2     2  3/01/2010             7.2             8.5              -8.7   \n",
       "3     3  4/01/2010             7.2             8.6             -10.2   \n",
       "4     4  5/01/2010             7.2             8.6              -8.1   \n",
       "\n",
       "   TMAX.D-1 (degC)   TMIN.D-1 (degC)   TAVG.D-1 (degC)   SNWD.I-1 (in)   \\\n",
       "0              -9.8             -16.1             -12.9            30.0   \n",
       "1              -3.0             -11.2              -6.2            29.0   \n",
       "2              -4.3              -8.7              -6.2            32.0   \n",
       "3              -6.3             -11.0              -9.1            32.0   \n",
       "4              -5.1             -12.7              -9.0            31.0   \n",
       "\n",
       "   BATT.I-1 (volt)   BATT.I-2 (volt)   BATT.I-3 (volt)   Target  \n",
       "0             12.44             13.80              3.15       0  \n",
       "1             12.48             13.77              3.15       0  \n",
       "2             12.44             13.53              3.15       0  \n",
       "3             12.42             13.42              3.15       0  \n",
       "4             12.40             13.46              3.15       0  "
      ]
     },
     "execution_count": 15,
     "metadata": {},
     "output_type": "execute_result"
    }
   ],
   "source": [
    "data.head()"
   ]
  },
  {
   "cell_type": "code",
   "execution_count": 16,
   "id": "4dc3e85a-038f-4fe8-86ed-1c060c2433be",
   "metadata": {},
   "outputs": [],
   "source": [
    "df=pd.DataFrame(data)"
   ]
  },
  {
   "cell_type": "code",
   "execution_count": 17,
   "id": "7ae4b276-dc10-4478-978c-6f617838d524",
   "metadata": {},
   "outputs": [],
   "source": [
    "del df['days']"
   ]
  },
  {
   "cell_type": "code",
   "execution_count": 18,
   "id": "4e6a2a84-85ae-4d9f-8389-1da224528b78",
   "metadata": {},
   "outputs": [],
   "source": [
    "del df['Date']"
   ]
  },
  {
   "cell_type": "code",
   "execution_count": 21,
   "id": "6a3b600c-f94c-4317-8bc0-7858b4122625",
   "metadata": {},
   "outputs": [],
   "source": [
    "del df['TOBS.I-1 (degC) ']"
   ]
  },
  {
   "cell_type": "code",
   "execution_count": 22,
   "id": "bb14204a-2841-4795-b750-70c40ace2a04",
   "metadata": {},
   "outputs": [],
   "source": [
    "del df['TMAX.D-1 (degC) ']"
   ]
  },
  {
   "cell_type": "code",
   "execution_count": 23,
   "id": "7ca0a69d-edb0-4523-a594-0b6ecd2bd55b",
   "metadata": {},
   "outputs": [],
   "source": [
    "del df['TMIN.D-1 (degC) ']"
   ]
  },
  {
   "cell_type": "code",
   "execution_count": 24,
   "id": "03aefc3b-6110-4c90-a86b-633766d06e67",
   "metadata": {},
   "outputs": [],
   "source": [
    "del df['BATT.I-1 (volt) ']"
   ]
  },
  {
   "cell_type": "code",
   "execution_count": 25,
   "id": "ed07d0c0-7907-4ed6-ae4a-7cf1a976aae1",
   "metadata": {},
   "outputs": [],
   "source": [
    "del df['BATT.I-2 (volt) ']"
   ]
  },
  {
   "cell_type": "code",
   "execution_count": 26,
   "id": "9ef9b457-388c-48e5-bc2b-e80c75c3e456",
   "metadata": {},
   "outputs": [],
   "source": [
    "del df['BATT.I-3 (volt) ']"
   ]
  },
  {
   "cell_type": "code",
   "execution_count": 27,
   "id": "ba05a3b7-3af2-4f5f-a43f-c152bd98dec2",
   "metadata": {},
   "outputs": [
    {
     "name": "stdout",
     "output_type": "stream",
     "text": [
      "      WTEQ.I-1 (in)   PREC.I-1 (in)   TAVG.D-1 (degC)   SNWD.I-1 (in)   Target\n",
      "0                6.8             8.0             -12.9            30.0       0\n",
      "1                6.8             8.0              -6.2            29.0       0\n",
      "2                7.2             8.5              -6.2            32.0       0\n",
      "3                7.2             8.6              -9.1            32.0       0\n",
      "4                7.2             8.6              -9.0            31.0       0\n",
      "...              ...             ...               ...             ...     ...\n",
      "2559             7.0             6.8             -12.0            30.0       0\n",
      "2560             7.3             6.9              -4.9            28.0       0\n",
      "2561             7.5             6.9              -5.4            28.0       0\n",
      "2562             7.5             6.9              -4.8            26.0       0\n",
      "2563             7.5             6.9              -1.9            28.0       0\n",
      "\n",
      "[2564 rows x 5 columns]\n"
     ]
    }
   ],
   "source": [
    "print(df)"
   ]
  },
  {
   "cell_type": "code",
   "execution_count": 28,
   "id": "86eb55d5-0345-4379-8df2-a5b13fec944d",
   "metadata": {},
   "outputs": [
    {
     "data": {
      "text/html": [
       "<div>\n",
       "<style scoped>\n",
       "    .dataframe tbody tr th:only-of-type {\n",
       "        vertical-align: middle;\n",
       "    }\n",
       "\n",
       "    .dataframe tbody tr th {\n",
       "        vertical-align: top;\n",
       "    }\n",
       "\n",
       "    .dataframe thead th {\n",
       "        text-align: right;\n",
       "    }\n",
       "</style>\n",
       "<table border=\"1\" class=\"dataframe\">\n",
       "  <thead>\n",
       "    <tr style=\"text-align: right;\">\n",
       "      <th></th>\n",
       "      <th>WTEQ.I-1 (in)</th>\n",
       "      <th>PREC.I-1 (in)</th>\n",
       "      <th>TAVG.D-1 (degC)</th>\n",
       "      <th>SNWD.I-1 (in)</th>\n",
       "      <th>Target</th>\n",
       "    </tr>\n",
       "  </thead>\n",
       "  <tbody>\n",
       "    <tr>\n",
       "      <th>0</th>\n",
       "      <td>6.8</td>\n",
       "      <td>8.0</td>\n",
       "      <td>-12.9</td>\n",
       "      <td>30.0</td>\n",
       "      <td>0</td>\n",
       "    </tr>\n",
       "    <tr>\n",
       "      <th>1</th>\n",
       "      <td>6.8</td>\n",
       "      <td>8.0</td>\n",
       "      <td>-6.2</td>\n",
       "      <td>29.0</td>\n",
       "      <td>0</td>\n",
       "    </tr>\n",
       "    <tr>\n",
       "      <th>2</th>\n",
       "      <td>7.2</td>\n",
       "      <td>8.5</td>\n",
       "      <td>-6.2</td>\n",
       "      <td>32.0</td>\n",
       "      <td>0</td>\n",
       "    </tr>\n",
       "    <tr>\n",
       "      <th>3</th>\n",
       "      <td>7.2</td>\n",
       "      <td>8.6</td>\n",
       "      <td>-9.1</td>\n",
       "      <td>32.0</td>\n",
       "      <td>0</td>\n",
       "    </tr>\n",
       "    <tr>\n",
       "      <th>4</th>\n",
       "      <td>7.2</td>\n",
       "      <td>8.6</td>\n",
       "      <td>-9.0</td>\n",
       "      <td>31.0</td>\n",
       "      <td>0</td>\n",
       "    </tr>\n",
       "  </tbody>\n",
       "</table>\n",
       "</div>"
      ],
      "text/plain": [
       "   WTEQ.I-1 (in)   PREC.I-1 (in)   TAVG.D-1 (degC)   SNWD.I-1 (in)   Target\n",
       "0             6.8             8.0             -12.9            30.0       0\n",
       "1             6.8             8.0              -6.2            29.0       0\n",
       "2             7.2             8.5              -6.2            32.0       0\n",
       "3             7.2             8.6              -9.1            32.0       0\n",
       "4             7.2             8.6              -9.0            31.0       0"
      ]
     },
     "execution_count": 28,
     "metadata": {},
     "output_type": "execute_result"
    }
   ],
   "source": [
    "df.head()"
   ]
  },
  {
   "cell_type": "code",
   "execution_count": 30,
   "id": "1b41d7a4-1f2e-462e-8c3a-9eabab42b3ff",
   "metadata": {},
   "outputs": [],
   "source": [
    "X = df[['WTEQ.I-1 (in) ', 'PREC.I-1 (in) ', 'TAVG.D-1 (degC) ', 'SNWD.I-1 (in) ']]"
   ]
  },
  {
   "cell_type": "code",
   "execution_count": 53,
   "id": "2edbb828-1753-4f69-bfea-d5529817f316",
   "metadata": {},
   "outputs": [],
   "source": [
    "Y = df['Target']"
   ]
  },
  {
   "cell_type": "code",
   "execution_count": 54,
   "id": "2e3e99e0-37bd-489d-867a-8b54b130d8f1",
   "metadata": {},
   "outputs": [],
   "source": [
    "from sklearn.model_selection import train_test_split"
   ]
  },
  {
   "cell_type": "code",
   "execution_count": 55,
   "id": "74e24fa4-1e74-48d4-9f5a-cd49bfd2b8c7",
   "metadata": {},
   "outputs": [],
   "source": [
    "X_train, X_test, y_train, y_test = train_test_split(X, y, test_size=0.33, random_state=42)"
   ]
  },
  {
   "cell_type": "code",
   "execution_count": 56,
   "id": "b62405d9-8a5a-419d-be83-918da361d90f",
   "metadata": {},
   "outputs": [
    {
     "name": "stdout",
     "output_type": "stream",
     "text": [
      "Training set shape (X_train, y_train): (1717, 4) (1717,)\n",
      "Testing set shape (X_test, y_test): (847, 4) (847,)\n"
     ]
    }
   ],
   "source": [
    "print(\"Training set shape (X_train, y_train):\", X_train.shape, y_train.shape)\n",
    "print(\"Testing set shape (X_test, y_test):\", X_test.shape, y_test.shape)"
   ]
  },
  {
   "cell_type": "code",
   "execution_count": 58,
   "id": "b2672196-52c1-475b-bf94-0437a4c0db90",
   "metadata": {},
   "outputs": [],
   "source": [
    "from sklearn.svm import SVC\n",
    "from sklearn.metrics import accuracy_score, classification_report"
   ]
  },
  {
   "cell_type": "code",
   "execution_count": 59,
   "id": "3914f144-e9a8-4252-855a-85884db9a948",
   "metadata": {},
   "outputs": [],
   "source": [
    "svm_model = SVC(kernel='linear', C=1.0, random_state=42)"
   ]
  },
  {
   "cell_type": "code",
   "execution_count": 60,
   "id": "a44da4e7-bdb5-44ac-b332-31f4ceafa318",
   "metadata": {},
   "outputs": [
    {
     "data": {
      "text/html": [
       "<style>#sk-container-id-2 {color: black;}#sk-container-id-2 pre{padding: 0;}#sk-container-id-2 div.sk-toggleable {background-color: white;}#sk-container-id-2 label.sk-toggleable__label {cursor: pointer;display: block;width: 100%;margin-bottom: 0;padding: 0.3em;box-sizing: border-box;text-align: center;}#sk-container-id-2 label.sk-toggleable__label-arrow:before {content: \"▸\";float: left;margin-right: 0.25em;color: #696969;}#sk-container-id-2 label.sk-toggleable__label-arrow:hover:before {color: black;}#sk-container-id-2 div.sk-estimator:hover label.sk-toggleable__label-arrow:before {color: black;}#sk-container-id-2 div.sk-toggleable__content {max-height: 0;max-width: 0;overflow: hidden;text-align: left;background-color: #f0f8ff;}#sk-container-id-2 div.sk-toggleable__content pre {margin: 0.2em;color: black;border-radius: 0.25em;background-color: #f0f8ff;}#sk-container-id-2 input.sk-toggleable__control:checked~div.sk-toggleable__content {max-height: 200px;max-width: 100%;overflow: auto;}#sk-container-id-2 input.sk-toggleable__control:checked~label.sk-toggleable__label-arrow:before {content: \"▾\";}#sk-container-id-2 div.sk-estimator input.sk-toggleable__control:checked~label.sk-toggleable__label {background-color: #d4ebff;}#sk-container-id-2 div.sk-label input.sk-toggleable__control:checked~label.sk-toggleable__label {background-color: #d4ebff;}#sk-container-id-2 input.sk-hidden--visually {border: 0;clip: rect(1px 1px 1px 1px);clip: rect(1px, 1px, 1px, 1px);height: 1px;margin: -1px;overflow: hidden;padding: 0;position: absolute;width: 1px;}#sk-container-id-2 div.sk-estimator {font-family: monospace;background-color: #f0f8ff;border: 1px dotted black;border-radius: 0.25em;box-sizing: border-box;margin-bottom: 0.5em;}#sk-container-id-2 div.sk-estimator:hover {background-color: #d4ebff;}#sk-container-id-2 div.sk-parallel-item::after {content: \"\";width: 100%;border-bottom: 1px solid gray;flex-grow: 1;}#sk-container-id-2 div.sk-label:hover label.sk-toggleable__label {background-color: #d4ebff;}#sk-container-id-2 div.sk-serial::before {content: \"\";position: absolute;border-left: 1px solid gray;box-sizing: border-box;top: 0;bottom: 0;left: 50%;z-index: 0;}#sk-container-id-2 div.sk-serial {display: flex;flex-direction: column;align-items: center;background-color: white;padding-right: 0.2em;padding-left: 0.2em;position: relative;}#sk-container-id-2 div.sk-item {position: relative;z-index: 1;}#sk-container-id-2 div.sk-parallel {display: flex;align-items: stretch;justify-content: center;background-color: white;position: relative;}#sk-container-id-2 div.sk-item::before, #sk-container-id-2 div.sk-parallel-item::before {content: \"\";position: absolute;border-left: 1px solid gray;box-sizing: border-box;top: 0;bottom: 0;left: 50%;z-index: -1;}#sk-container-id-2 div.sk-parallel-item {display: flex;flex-direction: column;z-index: 1;position: relative;background-color: white;}#sk-container-id-2 div.sk-parallel-item:first-child::after {align-self: flex-end;width: 50%;}#sk-container-id-2 div.sk-parallel-item:last-child::after {align-self: flex-start;width: 50%;}#sk-container-id-2 div.sk-parallel-item:only-child::after {width: 0;}#sk-container-id-2 div.sk-dashed-wrapped {border: 1px dashed gray;margin: 0 0.4em 0.5em 0.4em;box-sizing: border-box;padding-bottom: 0.4em;background-color: white;}#sk-container-id-2 div.sk-label label {font-family: monospace;font-weight: bold;display: inline-block;line-height: 1.2em;}#sk-container-id-2 div.sk-label-container {text-align: center;}#sk-container-id-2 div.sk-container {/* jupyter's `normalize.less` sets `[hidden] { display: none; }` but bootstrap.min.css set `[hidden] { display: none !important; }` so we also need the `!important` here to be able to override the default hidden behavior on the sphinx rendered scikit-learn.org. See: https://github.com/scikit-learn/scikit-learn/issues/21755 */display: inline-block !important;position: relative;}#sk-container-id-2 div.sk-text-repr-fallback {display: none;}</style><div id=\"sk-container-id-2\" class=\"sk-top-container\"><div class=\"sk-text-repr-fallback\"><pre>SVC(kernel=&#x27;linear&#x27;, random_state=42)</pre><b>In a Jupyter environment, please rerun this cell to show the HTML representation or trust the notebook. <br />On GitHub, the HTML representation is unable to render, please try loading this page with nbviewer.org.</b></div><div class=\"sk-container\" hidden><div class=\"sk-item\"><div class=\"sk-estimator sk-toggleable\"><input class=\"sk-toggleable__control sk-hidden--visually\" id=\"sk-estimator-id-2\" type=\"checkbox\" checked><label for=\"sk-estimator-id-2\" class=\"sk-toggleable__label sk-toggleable__label-arrow\">SVC</label><div class=\"sk-toggleable__content\"><pre>SVC(kernel=&#x27;linear&#x27;, random_state=42)</pre></div></div></div></div></div>"
      ],
      "text/plain": [
       "SVC(kernel='linear', random_state=42)"
      ]
     },
     "execution_count": 60,
     "metadata": {},
     "output_type": "execute_result"
    }
   ],
   "source": [
    "svm_model.fit(X_train, y_train)"
   ]
  },
  {
   "cell_type": "code",
   "execution_count": 61,
   "id": "2fdd07dc-cf0e-4a15-8acf-77ccde722ab1",
   "metadata": {},
   "outputs": [],
   "source": [
    "y_pred = svm_model.predict(X_test)"
   ]
  },
  {
   "cell_type": "code",
   "execution_count": 62,
   "id": "5dd4680b-1e69-43f5-8fd8-27eb140260fd",
   "metadata": {},
   "outputs": [
    {
     "name": "stdout",
     "output_type": "stream",
     "text": [
      "Accuracy: 0.9952774498229043\n"
     ]
    }
   ],
   "source": [
    "accuracy = accuracy_score(y_test, y_pred)\n",
    "print(\"Accuracy:\", accuracy)"
   ]
  },
  {
   "cell_type": "code",
   "execution_count": 63,
   "id": "a4ed3552-bc3f-41a5-bd06-25d1e06f31de",
   "metadata": {},
   "outputs": [
    {
     "name": "stdout",
     "output_type": "stream",
     "text": [
      "Classification Report:\n",
      "              precision    recall  f1-score   support\n",
      "\n",
      "           0       1.00      1.00      1.00       843\n",
      "           1       0.00      0.00      0.00         4\n",
      "\n",
      "    accuracy                           1.00       847\n",
      "   macro avg       0.50      0.50      0.50       847\n",
      "weighted avg       0.99      1.00      0.99       847\n",
      "\n"
     ]
    },
    {
     "name": "stderr",
     "output_type": "stream",
     "text": [
      "C:\\Users\\dhans\\AppData\\Local\\Programs\\Python\\Python311\\Lib\\site-packages\\sklearn\\metrics\\_classification.py:1469: UndefinedMetricWarning: Precision and F-score are ill-defined and being set to 0.0 in labels with no predicted samples. Use `zero_division` parameter to control this behavior.\n",
      "  _warn_prf(average, modifier, msg_start, len(result))\n",
      "C:\\Users\\dhans\\AppData\\Local\\Programs\\Python\\Python311\\Lib\\site-packages\\sklearn\\metrics\\_classification.py:1469: UndefinedMetricWarning: Precision and F-score are ill-defined and being set to 0.0 in labels with no predicted samples. Use `zero_division` parameter to control this behavior.\n",
      "  _warn_prf(average, modifier, msg_start, len(result))\n",
      "C:\\Users\\dhans\\AppData\\Local\\Programs\\Python\\Python311\\Lib\\site-packages\\sklearn\\metrics\\_classification.py:1469: UndefinedMetricWarning: Precision and F-score are ill-defined and being set to 0.0 in labels with no predicted samples. Use `zero_division` parameter to control this behavior.\n",
      "  _warn_prf(average, modifier, msg_start, len(result))\n"
     ]
    }
   ],
   "source": [
    "print(\"Classification Report:\")\n",
    "print(classification_report(y_test, y_pred))"
   ]
  },
  {
   "cell_type": "code",
   "execution_count": 64,
   "id": "8361a321-407e-4a16-96b1-41ea6e4d43b8",
   "metadata": {},
   "outputs": [],
   "source": [
    "def predict_class(svm_model, feature_values):\n",
    "    \"\"\"\n",
    "    Predicts the class (0 or 1) based on the trained SVM model and feature values.\n",
    "    \n",
    "    Parameters:\n",
    "    - svm_model: Trained SVM model object\n",
    "    - feature_values: List of feature values in the order of ['WTEQ.I-1 (in)', 'PREC.I-1 (in)', 'TAVG.D-1 (degC)', 'SNWD.I-1 (in)']\n",
    "    \n",
    "    Returns:\n",
    "    - predicted_class: Predicted class (0 or 1)\n",
    "    \"\"\"\n",
    "    # Ensure feature values are in the correct order\n",
    "    feature_values = [float(value) for value in feature_values]  # Convert values to float\n",
    "    \n",
    "    # Reshape the feature values to match the model input shape\n",
    "    feature_values = [feature_values]  \n",
    "    \n",
    "    # Predict the class using the SVM model\n",
    "    predicted_class = svm_model.predict(feature_values)\n",
    "    \n",
    "    return predicted_class[0]  # Return the predicted class (0 or 1)\n"
   ]
  },
  {
   "cell_type": "code",
   "execution_count": 65,
   "id": "bf667cfd-713b-413e-a66a-bae6539f72da",
   "metadata": {},
   "outputs": [
    {
     "name": "stderr",
     "output_type": "stream",
     "text": [
      "C:\\Users\\dhans\\AppData\\Local\\Programs\\Python\\Python311\\Lib\\site-packages\\sklearn\\base.py:464: UserWarning: X does not have valid feature names, but SVC was fitted with feature names\n",
      "  warnings.warn(\n"
     ]
    },
    {
     "data": {
      "text/plain": [
       "0"
      ]
     },
     "execution_count": 65,
     "metadata": {},
     "output_type": "execute_result"
    }
   ],
   "source": [
    "predict_class(svm_model, [7.4,8.5,-8.7,30])"
   ]
  },
  {
   "cell_type": "code",
   "execution_count": 66,
   "id": "331e054b-557e-471b-8611-0f14d62577b3",
   "metadata": {},
   "outputs": [
    {
     "name": "stderr",
     "output_type": "stream",
     "text": [
      "C:\\Users\\dhans\\AppData\\Local\\Programs\\Python\\Python311\\Lib\\site-packages\\sklearn\\base.py:464: UserWarning: X does not have valid feature names, but SVC was fitted with feature names\n",
      "  warnings.warn(\n"
     ]
    },
    {
     "data": {
      "text/plain": [
       "0"
      ]
     },
     "execution_count": 66,
     "metadata": {},
     "output_type": "execute_result"
    }
   ],
   "source": [
    "predict_class(svm_model, [14.9,20.4,5.2,44])"
   ]
  },
  {
   "cell_type": "code",
   "execution_count": null,
   "id": "02c3f970-c9ea-4837-a65f-5b0532ac8c79",
   "metadata": {},
   "outputs": [],
   "source": []
  }
 ],
 "metadata": {
  "kernelspec": {
   "display_name": "Python 3 (ipykernel)",
   "language": "python",
   "name": "python3"
  },
  "language_info": {
   "codemirror_mode": {
    "name": "ipython",
    "version": 3
   },
   "file_extension": ".py",
   "mimetype": "text/x-python",
   "name": "python",
   "nbconvert_exporter": "python",
   "pygments_lexer": "ipython3",
   "version": "3.11.1"
  }
 },
 "nbformat": 4,
 "nbformat_minor": 5
}
